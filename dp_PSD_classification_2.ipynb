{
 "cells": [
  {
   "cell_type": "code",
   "execution_count": 347,
   "id": "6ddce5fb",
   "metadata": {},
   "outputs": [
    {
     "data": {
      "text/plain": [
       "(1459, 6)"
      ]
     },
     "execution_count": 347,
     "metadata": {},
     "output_type": "execute_result"
    }
   ],
   "source": [
    "import pandas as pd\n",
    "import matplotlib.pyplot as plt\n",
    "from sklearn.metrics import confusion_matrix\n",
    "from sklearn.metrics import accuracy_score, precision_score, recall_score\n",
    "from sklearn.tree import DecisionTreeClassifier\n",
    "\n",
    "df = pd.read_csv('Sub4_wH_C1R_data.csv')\n",
    "df.shape #get the rows and columns "
   ]
  },
  {
   "cell_type": "code",
   "execution_count": 350,
   "id": "b125cf73",
   "metadata": {},
   "outputs": [],
   "source": [
    "\n",
    "df = df.rename(columns={ df.columns[0]: \"PSD1\", df.columns[1]: \"PSD2\",df.columns[2]: \"PSD3\",df.columns[3]: \"PSD4\",df.columns[4]: \"PSD5\", df.columns[5]: \"Labels\"})\n"
   ]
  },
  {
   "cell_type": "code",
   "execution_count": 351,
   "id": "f265c7d4",
   "metadata": {},
   "outputs": [
    {
     "data": {
      "text/html": [
       "<div>\n",
       "<style scoped>\n",
       "    .dataframe tbody tr th:only-of-type {\n",
       "        vertical-align: middle;\n",
       "    }\n",
       "\n",
       "    .dataframe tbody tr th {\n",
       "        vertical-align: top;\n",
       "    }\n",
       "\n",
       "    .dataframe thead th {\n",
       "        text-align: right;\n",
       "    }\n",
       "</style>\n",
       "<table border=\"1\" class=\"dataframe\">\n",
       "  <thead>\n",
       "    <tr style=\"text-align: right;\">\n",
       "      <th></th>\n",
       "      <th>index</th>\n",
       "      <th>PSD1</th>\n",
       "      <th>PSD2</th>\n",
       "      <th>PSD3</th>\n",
       "      <th>PSD4</th>\n",
       "      <th>PSD5</th>\n",
       "      <th>Labels</th>\n",
       "    </tr>\n",
       "  </thead>\n",
       "  <tbody>\n",
       "    <tr>\n",
       "      <th>0</th>\n",
       "      <td>1366</td>\n",
       "      <td>9.680094e+10</td>\n",
       "      <td>1.034218e+11</td>\n",
       "      <td>1.107504e+11</td>\n",
       "      <td>1.188912e+11</td>\n",
       "      <td>1.279672e+11</td>\n",
       "      <td>2</td>\n",
       "    </tr>\n",
       "    <tr>\n",
       "      <th>1</th>\n",
       "      <td>699</td>\n",
       "      <td>1.812485e+10</td>\n",
       "      <td>1.937494e+10</td>\n",
       "      <td>2.076028e+10</td>\n",
       "      <td>2.230079e+10</td>\n",
       "      <td>2.402101e+10</td>\n",
       "      <td>1</td>\n",
       "    </tr>\n",
       "    <tr>\n",
       "      <th>2</th>\n",
       "      <td>1394</td>\n",
       "      <td>5.297553e+10</td>\n",
       "      <td>5.660764e+10</td>\n",
       "      <td>6.062956e+10</td>\n",
       "      <td>6.509901e+10</td>\n",
       "      <td>7.008381e+10</td>\n",
       "      <td>2</td>\n",
       "    </tr>\n",
       "    <tr>\n",
       "      <th>3</th>\n",
       "      <td>604</td>\n",
       "      <td>4.712447e+09</td>\n",
       "      <td>5.034979e+09</td>\n",
       "      <td>5.391995e+09</td>\n",
       "      <td>5.788671e+09</td>\n",
       "      <td>6.230979e+09</td>\n",
       "      <td>1</td>\n",
       "    </tr>\n",
       "    <tr>\n",
       "      <th>4</th>\n",
       "      <td>1023</td>\n",
       "      <td>3.722826e+02</td>\n",
       "      <td>3.952954e+02</td>\n",
       "      <td>4.293201e+02</td>\n",
       "      <td>4.528388e+02</td>\n",
       "      <td>4.938437e+02</td>\n",
       "      <td>2</td>\n",
       "    </tr>\n",
       "    <tr>\n",
       "      <th>5</th>\n",
       "      <td>1071</td>\n",
       "      <td>1.623016e+02</td>\n",
       "      <td>1.727444e+02</td>\n",
       "      <td>1.838255e+02</td>\n",
       "      <td>2.046840e+02</td>\n",
       "      <td>2.256810e+02</td>\n",
       "      <td>2</td>\n",
       "    </tr>\n",
       "    <tr>\n",
       "      <th>6</th>\n",
       "      <td>783</td>\n",
       "      <td>1.446622e-01</td>\n",
       "      <td>1.481954e-01</td>\n",
       "      <td>1.868935e-02</td>\n",
       "      <td>5.037652e-01</td>\n",
       "      <td>3.109086e-02</td>\n",
       "      <td>2</td>\n",
       "    </tr>\n",
       "    <tr>\n",
       "      <th>7</th>\n",
       "      <td>1201</td>\n",
       "      <td>1.120793e+07</td>\n",
       "      <td>1.197611e+07</td>\n",
       "      <td>1.282283e+07</td>\n",
       "      <td>1.376732e+07</td>\n",
       "      <td>1.481817e+07</td>\n",
       "      <td>2</td>\n",
       "    </tr>\n",
       "    <tr>\n",
       "      <th>8</th>\n",
       "      <td>183</td>\n",
       "      <td>1.026747e-01</td>\n",
       "      <td>1.810205e-01</td>\n",
       "      <td>7.073233e-02</td>\n",
       "      <td>1.246898e-01</td>\n",
       "      <td>9.040105e-02</td>\n",
       "      <td>1</td>\n",
       "    </tr>\n",
       "    <tr>\n",
       "      <th>9</th>\n",
       "      <td>1133</td>\n",
       "      <td>5.562087e+05</td>\n",
       "      <td>5.938949e+05</td>\n",
       "      <td>6.363274e+05</td>\n",
       "      <td>6.827169e+05</td>\n",
       "      <td>7.353340e+05</td>\n",
       "      <td>2</td>\n",
       "    </tr>\n",
       "  </tbody>\n",
       "</table>\n",
       "</div>"
      ],
      "text/plain": [
       "   index          PSD1          PSD2          PSD3          PSD4  \\\n",
       "0   1366  9.680094e+10  1.034218e+11  1.107504e+11  1.188912e+11   \n",
       "1    699  1.812485e+10  1.937494e+10  2.076028e+10  2.230079e+10   \n",
       "2   1394  5.297553e+10  5.660764e+10  6.062956e+10  6.509901e+10   \n",
       "3    604  4.712447e+09  5.034979e+09  5.391995e+09  5.788671e+09   \n",
       "4   1023  3.722826e+02  3.952954e+02  4.293201e+02  4.528388e+02   \n",
       "5   1071  1.623016e+02  1.727444e+02  1.838255e+02  2.046840e+02   \n",
       "6    783  1.446622e-01  1.481954e-01  1.868935e-02  5.037652e-01   \n",
       "7   1201  1.120793e+07  1.197611e+07  1.282283e+07  1.376732e+07   \n",
       "8    183  1.026747e-01  1.810205e-01  7.073233e-02  1.246898e-01   \n",
       "9   1133  5.562087e+05  5.938949e+05  6.363274e+05  6.827169e+05   \n",
       "\n",
       "           PSD5  Labels  \n",
       "0  1.279672e+11       2  \n",
       "1  2.402101e+10       1  \n",
       "2  7.008381e+10       2  \n",
       "3  6.230979e+09       1  \n",
       "4  4.938437e+02       2  \n",
       "5  2.256810e+02       2  \n",
       "6  3.109086e-02       2  \n",
       "7  1.481817e+07       2  \n",
       "8  9.040105e-02       1  \n",
       "9  7.353340e+05       2  "
      ]
     },
     "execution_count": 351,
     "metadata": {},
     "output_type": "execute_result"
    }
   ],
   "source": [
    "df_new = df.sample(frac=1).reset_index()\n",
    "df_new.head(10)\n"
   ]
  },
  {
   "cell_type": "code",
   "execution_count": 352,
   "id": "82a29f0a",
   "metadata": {},
   "outputs": [
    {
     "data": {
      "text/plain": [
       "2    730\n",
       "1    729\n",
       "Name: Labels, dtype: int64"
      ]
     },
     "execution_count": 352,
     "metadata": {},
     "output_type": "execute_result"
    }
   ],
   "source": [
    "df_new['Labels'].value_counts()\n"
   ]
  },
  {
   "cell_type": "code",
   "execution_count": 382,
   "id": "5034f67e",
   "metadata": {},
   "outputs": [],
   "source": [
    "#split into two data sets, input and output data set\n",
    "X = df.drop(columns = 'Labels', axis = 1)\n",
    "y = df['Labels']"
   ]
  },
  {
   "cell_type": "code",
   "execution_count": 383,
   "id": "7f8aeff6",
   "metadata": {},
   "outputs": [
    {
     "data": {
      "text/plain": [
       "0    1\n",
       "1    1\n",
       "2    1\n",
       "3    1\n",
       "4    1\n",
       "5    1\n",
       "6    1\n",
       "7    1\n",
       "8    1\n",
       "9    1\n",
       "Name: Labels, dtype: int64"
      ]
     },
     "execution_count": 383,
     "metadata": {},
     "output_type": "execute_result"
    }
   ],
   "source": [
    "X.head(10)\n",
    "y.head(10)"
   ]
  },
  {
   "cell_type": "code",
   "execution_count": 365,
   "id": "70003a8b",
   "metadata": {},
   "outputs": [],
   "source": [
    "#X = X.values.reshape(-1, 1)\n"
   ]
  },
  {
   "cell_type": "code",
   "execution_count": 366,
   "id": "13c399ad",
   "metadata": {},
   "outputs": [],
   "source": [
    "#y = y.values.reshape(-1,1)"
   ]
  },
  {
   "cell_type": "code",
   "execution_count": 384,
   "id": "73b441d2",
   "metadata": {},
   "outputs": [],
   "source": [
    "from sklearn.model_selection import train_test_split\n",
    "\n",
    "X_train, X_test, y_train, y_test = train_test_split(X,y, test_size=0.2, stratify=y, random_state=2)"
   ]
  },
  {
   "cell_type": "code",
   "execution_count": 385,
   "id": "41840fdb",
   "metadata": {},
   "outputs": [
    {
     "name": "stdout",
     "output_type": "stream",
     "text": [
      "(1459, 5) (1167, 5) (292, 5)\n"
     ]
    }
   ],
   "source": [
    "print(X.shape, X_train.shape, X_test.shape)"
   ]
  },
  {
   "cell_type": "code",
   "execution_count": 386,
   "id": "f2f0a08a",
   "metadata": {},
   "outputs": [],
   "source": [
    "from sklearn.preprocessing import StandardScaler\n",
    "\n",
    "ss_train = StandardScaler()\n",
    "X_train = ss_train.fit_transform(X_train)\n",
    "\n",
    "ss_test = StandardScaler()\n",
    "X_test = ss_test.fit_transform(X_test)"
   ]
  },
  {
   "cell_type": "code",
   "execution_count": 387,
   "id": "bf37363c",
   "metadata": {},
   "outputs": [],
   "source": [
    "#training the model \n",
    "\n",
    "# AdaBoost Classifier\n",
    "from sklearn.ensemble import AdaBoostClassifier\n",
    "\n",
    "classifier = AdaBoostClassifier()"
   ]
  },
  {
   "cell_type": "code",
   "execution_count": 388,
   "id": "086a6e86",
   "metadata": {},
   "outputs": [
    {
     "data": {
      "text/plain": [
       "AdaBoostClassifier()"
      ]
     },
     "execution_count": 388,
     "metadata": {},
     "output_type": "execute_result"
    }
   ],
   "source": [
    "classifier.fit(X_train, y_train)"
   ]
  },
  {
   "cell_type": "code",
   "execution_count": 389,
   "id": "51578ae9",
   "metadata": {},
   "outputs": [],
   "source": [
    "predictions = classifier.predict(X_test)"
   ]
  },
  {
   "cell_type": "code",
   "execution_count": 390,
   "id": "b5b7cf57",
   "metadata": {},
   "outputs": [
    {
     "name": "stdout",
     "output_type": "stream",
     "text": [
      "True Positive(TP)  =  16\n",
      "False Positive(FP) =  0\n",
      "True Negative(TN)  =  146\n",
      "False Negative(FN) =  130\n"
     ]
    }
   ],
   "source": [
    "cm = confusion_matrix(y_test, predictions)\n",
    "\n",
    "TN, FP, FN, TP = confusion_matrix(y_test, predictions).ravel()\n",
    "\n",
    "print('True Positive(TP)  = ', TP)\n",
    "print('False Positive(FP) = ', FP)\n",
    "print('True Negative(TN)  = ', TN)\n",
    "print('False Negative(FN) = ', FN)"
   ]
  },
  {
   "cell_type": "code",
   "execution_count": 391,
   "id": "c5c1f5a3",
   "metadata": {},
   "outputs": [
    {
     "name": "stdout",
     "output_type": "stream",
     "text": [
      "Accuracy of the binary classifier = 55.479\n"
     ]
    }
   ],
   "source": [
    "accuracy =  ((TP + TN) / (TP + FP + TN + FN))*100\n",
    "\n",
    "print('Accuracy of the binary classifier = {:0.3f}'.format(accuracy))"
   ]
  },
  {
   "cell_type": "code",
   "execution_count": 392,
   "id": "fd8534e9",
   "metadata": {},
   "outputs": [],
   "source": [
    "models = {}\n",
    "\n",
    "# Logistic Regression\n",
    "from sklearn.linear_model import LogisticRegression\n",
    "models['Logistic Regression'] = LogisticRegression()\n",
    "\n",
    "# Support Vector Machines\n",
    "from sklearn.svm import LinearSVC\n",
    "models['Support Vector Machines'] = LinearSVC()\n",
    "\n",
    "# Decision Trees\n",
    "from sklearn.tree import DecisionTreeClassifier\n",
    "models['Decision Trees'] = DecisionTreeClassifier()\n",
    "\n",
    "# Random Forest\n",
    "from sklearn.ensemble import RandomForestClassifier\n",
    "models['Random Forest'] = RandomForestClassifier()\n",
    "\n",
    "# Naive Bayes\n",
    "from sklearn.naive_bayes import GaussianNB\n",
    "models['Naive Bayes'] = GaussianNB()\n",
    "\n",
    "# K-Nearest Neighbors\n",
    "from sklearn.neighbors import KNeighborsClassifier\n",
    "models['K-Nearest Neighbor'] = KNeighborsClassifier(n_neighbors=10)\n",
    "\n",
    "from sklearn.ensemble import AdaBoostClassifier\n",
    "models['Ada Boost Classifier'] = AdaBoostClassifier(n_estimators=100, learning_rate=0.1, random_state=0)"
   ]
  },
  {
   "cell_type": "code",
   "execution_count": 393,
   "id": "5f08e7c1",
   "metadata": {},
   "outputs": [
    {
     "name": "stderr",
     "output_type": "stream",
     "text": [
      "/opt/anaconda3/lib/python3.8/site-packages/sklearn/svm/_base.py:985: ConvergenceWarning: Liblinear failed to converge, increase the number of iterations.\n",
      "  warnings.warn(\"Liblinear failed to converge, increase \"\n"
     ]
    }
   ],
   "source": [
    "from sklearn.metrics import accuracy_score, precision_score, recall_score\n",
    "\n",
    "accuracy, precision, recall = {}, {}, {}\n",
    "\n",
    "for key in models.keys():\n",
    "    \n",
    "    # Fit the classifier\n",
    "    models[key].fit(X_train, y_train)\n",
    "    \n",
    "    # Make predictions\n",
    "    predictions = models[key].predict(X_test)\n",
    "    \n",
    "    # Calculate metrics\n",
    "    accuracy[key] = accuracy_score(predictions, y_test)\n",
    "    precision[key] = precision_score(predictions, y_test)\n",
    "    recall[key] = recall_score(predictions, y_test)"
   ]
  },
  {
   "cell_type": "code",
   "execution_count": 394,
   "id": "9a7d2950",
   "metadata": {},
   "outputs": [
    {
     "data": {
      "text/html": [
       "<div>\n",
       "<style scoped>\n",
       "    .dataframe tbody tr th:only-of-type {\n",
       "        vertical-align: middle;\n",
       "    }\n",
       "\n",
       "    .dataframe tbody tr th {\n",
       "        vertical-align: top;\n",
       "    }\n",
       "\n",
       "    .dataframe thead th {\n",
       "        text-align: right;\n",
       "    }\n",
       "</style>\n",
       "<table border=\"1\" class=\"dataframe\">\n",
       "  <thead>\n",
       "    <tr style=\"text-align: right;\">\n",
       "      <th></th>\n",
       "      <th>Accuracy</th>\n",
       "      <th>Precision</th>\n",
       "      <th>Recall</th>\n",
       "    </tr>\n",
       "  </thead>\n",
       "  <tbody>\n",
       "    <tr>\n",
       "      <th>Logistic Regression</th>\n",
       "      <td>0.523973</td>\n",
       "      <td>0.938356</td>\n",
       "      <td>0.513109</td>\n",
       "    </tr>\n",
       "    <tr>\n",
       "      <th>Support Vector Machines</th>\n",
       "      <td>0.513699</td>\n",
       "      <td>0.938356</td>\n",
       "      <td>0.507407</td>\n",
       "    </tr>\n",
       "    <tr>\n",
       "      <th>Decision Trees</th>\n",
       "      <td>0.551370</td>\n",
       "      <td>0.993151</td>\n",
       "      <td>0.527273</td>\n",
       "    </tr>\n",
       "    <tr>\n",
       "      <th>Random Forest</th>\n",
       "      <td>0.551370</td>\n",
       "      <td>0.993151</td>\n",
       "      <td>0.527273</td>\n",
       "    </tr>\n",
       "    <tr>\n",
       "      <th>Naive Bayes</th>\n",
       "      <td>0.489726</td>\n",
       "      <td>0.938356</td>\n",
       "      <td>0.494585</td>\n",
       "    </tr>\n",
       "    <tr>\n",
       "      <th>K-Nearest Neighbor</th>\n",
       "      <td>0.558219</td>\n",
       "      <td>0.157534</td>\n",
       "      <td>0.793103</td>\n",
       "    </tr>\n",
       "    <tr>\n",
       "      <th>Ada Boost Classifier</th>\n",
       "      <td>0.554795</td>\n",
       "      <td>1.000000</td>\n",
       "      <td>0.528986</td>\n",
       "    </tr>\n",
       "  </tbody>\n",
       "</table>\n",
       "</div>"
      ],
      "text/plain": [
       "                         Accuracy  Precision    Recall\n",
       "Logistic Regression      0.523973   0.938356  0.513109\n",
       "Support Vector Machines  0.513699   0.938356  0.507407\n",
       "Decision Trees           0.551370   0.993151  0.527273\n",
       "Random Forest            0.551370   0.993151  0.527273\n",
       "Naive Bayes              0.489726   0.938356  0.494585\n",
       "K-Nearest Neighbor       0.558219   0.157534  0.793103\n",
       "Ada Boost Classifier     0.554795   1.000000  0.528986"
      ]
     },
     "execution_count": 394,
     "metadata": {},
     "output_type": "execute_result"
    }
   ],
   "source": [
    "import pandas as pd\n",
    "\n",
    "df_model = pd.DataFrame(index=models.keys(), columns=['Accuracy', 'Precision', 'Recall'])\n",
    "df_model['Accuracy'] = (accuracy.values())\n",
    "df_model['Precision'] = precision.values()\n",
    "df_model['Recall'] = recall.values()\n",
    "\n",
    "df_model"
   ]
  },
  {
   "cell_type": "code",
   "execution_count": 395,
   "id": "6b1903d3",
   "metadata": {},
   "outputs": [
    {
     "data": {
      "image/png": "[encoded data removed]",
      "text/plain": [
       "<Figure size 432x288 with 1 Axes>"
      ]
     },
     "metadata": {
      "needs_background": "light"
     },
     "output_type": "display_data"
    }
   ],
   "source": [
    "ax = df_model.plot.barh()\n",
    "ax.legend(\n",
    "    ncol=len(models.keys()), \n",
    "    bbox_to_anchor=(0, 1), \n",
    "    loc='lower left', \n",
    "    prop={'size': 14}\n",
    ")\n",
    "plt.tight_layout()\n"
   ]
  }
 ],
 "metadata": {
  "kernelspec": {
   "display_name": "Python 3",
   "language": "python",
   "name": "python3"
  },
  "language_info": {
   "codemirror_mode": {
    "name": "ipython",
    "version": 3
   },
   "file_extension": ".py",
   "mimetype": "text/x-python",
   "name": "python",
   "nbconvert_exporter": "python",
   "pygments_lexer": "ipython3",
   "version": "3.8.8"
  }
 },
 "nbformat": 4,
 "nbformat_minor": 5
}
